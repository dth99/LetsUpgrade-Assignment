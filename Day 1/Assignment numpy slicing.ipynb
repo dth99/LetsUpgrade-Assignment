{
 "cells": [
  {
   "cell_type": "code",
   "execution_count": 2,
   "id": "4a79a2f4",
   "metadata": {},
   "outputs": [],
   "source": [
    "import numpy as np"
   ]
  },
  {
   "cell_type": "code",
   "execution_count": 10,
   "id": "bd4173b2",
   "metadata": {},
   "outputs": [
    {
     "name": "stdout",
     "output_type": "stream",
     "text": [
      "[0 1 2 3 4 5 6 7 8 9]\n"
     ]
    },
    {
     "data": {
      "text/plain": [
       "slice(2, 7, 2)"
      ]
     },
     "execution_count": 10,
     "metadata": {},
     "output_type": "execute_result"
    }
   ],
   "source": [
    "# using slice function\n",
    "a = np.arange(10) \n",
    "print(a)\n",
    "s = slice(2,7,2) \n",
    "s"
   ]
  },
  {
   "cell_type": "code",
   "execution_count": 11,
   "id": "ca89e513",
   "metadata": {},
   "outputs": [
    {
     "name": "stdout",
     "output_type": "stream",
     "text": [
      "[0 1 2 3 4 5 6 7 8 9]\n"
     ]
    },
    {
     "data": {
      "text/plain": [
       "array([2, 4, 6])"
      ]
     },
     "execution_count": 11,
     "metadata": {},
     "output_type": "execute_result"
    }
   ],
   "source": [
    "# slicing using index\n",
    "import numpy as np \n",
    "a = np.arange(10)\n",
    "print(a)\n",
    "b = a[2:7:2] \n",
    "b"
   ]
  },
  {
   "cell_type": "code",
   "execution_count": 9,
   "id": "49931e83",
   "metadata": {},
   "outputs": [
    {
     "name": "stdout",
     "output_type": "stream",
     "text": [
      "[0 1 2 3 4 5 6 7 8 9]\n"
     ]
    },
    {
     "data": {
      "text/plain": [
       "5"
      ]
     },
     "execution_count": 9,
     "metadata": {},
     "output_type": "execute_result"
    }
   ],
   "source": [
    "# slicing single item\n",
    "\n",
    "a = np.arange(10) \n",
    "print(a)\n",
    "b = a[5] \n",
    "b"
   ]
  },
  {
   "cell_type": "code",
   "execution_count": 13,
   "id": "4d03117f",
   "metadata": {},
   "outputs": [
    {
     "name": "stdout",
     "output_type": "stream",
     "text": [
      "[0 1 2 3 4 5 6 7 8 9]\n"
     ]
    },
    {
     "data": {
      "text/plain": [
       "array([4, 5, 6, 7, 8, 9])"
      ]
     },
     "execution_count": 13,
     "metadata": {},
     "output_type": "execute_result"
    }
   ],
   "source": [
    "# slice items starting from index \n",
    "a = np.arange(10) \n",
    "print(a)\n",
    "a[4:]"
   ]
  },
  {
   "cell_type": "code",
   "execution_count": 14,
   "id": "cc7cde6c",
   "metadata": {},
   "outputs": [
    {
     "name": "stdout",
     "output_type": "stream",
     "text": [
      "[0 1 2 3 4 5 6 7 8 9]\n"
     ]
    },
    {
     "data": {
      "text/plain": [
       "array([2, 3, 4])"
      ]
     },
     "execution_count": 14,
     "metadata": {},
     "output_type": "execute_result"
    }
   ],
   "source": [
    "# slice items between indexes \n",
    "\n",
    "a = np.arange(10) \n",
    "print(a)\n",
    "a[2:5]"
   ]
  },
  {
   "cell_type": "code",
   "execution_count": 17,
   "id": "bed06d43",
   "metadata": {},
   "outputs": [
    {
     "name": "stdout",
     "output_type": "stream",
     "text": [
      "[[1 2 3]\n",
      " [3 4 5]\n",
      " [4 5 6]]\n",
      "Now we will slice the array from the index a[1:]\n",
      "[[3 4 5]\n",
      " [4 5 6]]\n"
     ]
    }
   ],
   "source": [
    "\n",
    "a = np.array([[1,2,3],[3,4,5],[4,5,6]]) \n",
    "print(a)  \n",
    "\n",
    "# slice items starting from index\n",
    "print('Now we will slice the array from the index a[1:]')\n",
    "print(a[1:])"
   ]
  },
  {
   "cell_type": "code",
   "execution_count": 26,
   "id": "01955e8a",
   "metadata": {},
   "outputs": [
    {
     "name": "stdout",
     "output_type": "stream",
     "text": [
      "Our array is:\n",
      "[[1 2 3]\n",
      " [3 4 5]\n",
      " [4 5 6]]\n",
      "\n",
      "\n",
      "The items in the second column are:\n",
      "[2 4 5]\n",
      "\n",
      "\n",
      "The items in the second row are:\n",
      "[3 4 5]\n",
      "\n",
      "\n",
      "The items column 1 onwards are:\n",
      "[[2 3]\n",
      " [4 5]\n",
      " [5 6]]\n"
     ]
    }
   ],
   "source": [
    "\n",
    "\n",
    "# array to begin with \n",
    "import numpy as np \n",
    "a = np.array([[1,2,3],[3,4,5],[4,5,6]]) \n",
    "\n",
    "print('Our array is:') \n",
    "print(a) \n",
    "print('\\n')  \n",
    "\n",
    "# this returns array of items in the second column \n",
    "print('The items in the second column are:') \n",
    "print(a[...,1])\n",
    "print('\\n')\n",
    "\n",
    "# Now we will slice all items from the second row \n",
    "print('The items in the second row are:')\n",
    "print(a[1,...])\n",
    "print('\\n') \n",
    "\n",
    "# Now we will slice all items from column 1 onwards \n",
    "print(\"The items column 1 onwards are:\")\n",
    "print(a[...,1:])"
   ]
  }
 ],
 "metadata": {
  "kernelspec": {
   "display_name": "Python 3 (ipykernel)",
   "language": "python",
   "name": "python3"
  },
  "language_info": {
   "codemirror_mode": {
    "name": "ipython",
    "version": 3
   },
   "file_extension": ".py",
   "mimetype": "text/x-python",
   "name": "python",
   "nbconvert_exporter": "python",
   "pygments_lexer": "ipython3",
   "version": "3.9.7"
  }
 },
 "nbformat": 4,
 "nbformat_minor": 5
}
